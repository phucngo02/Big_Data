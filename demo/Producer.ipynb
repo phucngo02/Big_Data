{
 "cells": [
  {
   "cell_type": "code",
   "execution_count": 1,
   "id": "486aa714",
   "metadata": {
    "scrolled": true
   },
   "outputs": [
    {
     "name": "stdout",
     "output_type": "stream",
     "text": [
      "Collecting kafka-python\n",
      "  Downloading kafka_python-2.0.2-py2.py3-none-any.whl (246 kB)\n",
      "     -------------------------------------- 246.5/246.5 kB 2.2 MB/s eta 0:00:00\n",
      "Installing collected packages: kafka-python\n",
      "Successfully installed kafka-python-2.0.2\n",
      "Note: you may need to restart the kernel to use updated packages.\n"
     ]
    }
   ],
   "source": [
    "#pip install kafka-python"
   ]
  },
  {
   "cell_type": "code",
   "execution_count": 1,
   "id": "e2b1b34b",
   "metadata": {},
   "outputs": [],
   "source": [
    "from kafka import KafkaProducer\n",
    "from time import sleep\n",
    "import pandas as pd\n",
    "import json\n",
    "from datetime import datetime\n",
    "from confluent_kafka import Producer"
   ]
  },
  {
   "cell_type": "code",
   "execution_count": 2,
   "id": "45f9469d",
   "metadata": {},
   "outputs": [],
   "source": [
    "producer = KafkaProducer(bootstrap_servers=['localhost:9092'])"
   ]
  },
  {
   "cell_type": "code",
   "execution_count": 3,
   "id": "82b2833d",
   "metadata": {},
   "outputs": [
    {
     "data": {
      "text/plain": [
       "<kafka.producer.future.FutureRecordMetadata at 0x1e920e1ac80>"
      ]
     },
     "execution_count": 3,
     "metadata": {},
     "output_type": "execute_result"
    }
   ],
   "source": [
    "# Topic namw is quickstart-events.\n",
    "#producer.send('kafka7', json.dumps('Việt Nam').encode(\"utf-8\"))"
   ]
  },
  {
   "cell_type": "code",
   "execution_count": 4,
   "id": "52e46351",
   "metadata": {},
   "outputs": [
    {
     "data": {
      "text/plain": [
       "datetime.datetime(2023, 7, 19, 19, 53, 58, 274940)"
      ]
     },
     "execution_count": 4,
     "metadata": {},
     "output_type": "execute_result"
    }
   ],
   "source": [
    "now = datetime.now()\n",
    "now"
   ]
  },
  {
   "cell_type": "code",
   "execution_count": 5,
   "id": "81d05571",
   "metadata": {
    "scrolled": true
   },
   "outputs": [
    {
     "data": {
      "text/plain": [
       "'19/07/2023 19:53:58'"
      ]
     },
     "execution_count": 5,
     "metadata": {},
     "output_type": "execute_result"
    }
   ],
   "source": [
    "current_now = now.strftime('%d/%m/%Y %H:%M:%S')\n",
    "current_now"
   ]
  },
  {
   "cell_type": "code",
   "execution_count": 11,
   "id": "23b838eb",
   "metadata": {},
   "outputs": [
    {
     "name": "stdout",
     "output_type": "stream",
     "text": [
      "Requirement already satisfied: confluent-kafka in e:\\tailieu\\hk2_n3\\bigdata\\jupyter\\lib\\site-packages (2.1.1)\n",
      "Note: you may need to restart the kernel to use updated packages.\n"
     ]
    }
   ],
   "source": [
    "pip install confluent-kafka"
   ]
  },
  {
   "cell_type": "code",
   "execution_count": 6,
   "id": "dfba6f23",
   "metadata": {
    "scrolled": true
   },
   "outputs": [
    {
     "name": "stdout",
     "output_type": "stream",
     "text": [
      "Câu văn Việt Nam thử: 19:54:06.877420 0\n",
      "Câu văn Việt Nam thử: 19:54:08.895414 1\n",
      "Câu văn Việt Nam thử: 19:54:10.907454 2\n",
      "Câu văn Việt Nam thử: 19:54:12.915328 3\n",
      "Câu văn Việt Nam thử: 19:54:14.918589 4\n"
     ]
    }
   ],
   "source": [
    "for i in range(5):\n",
    "\tmassege = 'Câu văn Việt Nam thử: {}'.format(str(datetime.now().time()))\n",
    "\tproducer.send('kafka6', massege.encode(\"utf-8\"))\n",
    "\tsleep(2)\n",
    "\tprint(massege, i)\n",
    "    "
   ]
  },
  {
   "cell_type": "markdown",
   "id": "d0e66d01",
   "metadata": {},
   "source": [
    "### Read test file"
   ]
  },
  {
   "cell_type": "code",
   "execution_count": 3,
   "id": "ea5be599",
   "metadata": {
    "scrolled": false
   },
   "outputs": [
    {
     "data": {
      "text/html": [
       "<div>\n",
       "<style scoped>\n",
       "    .dataframe tbody tr th:only-of-type {\n",
       "        vertical-align: middle;\n",
       "    }\n",
       "\n",
       "    .dataframe tbody tr th {\n",
       "        vertical-align: top;\n",
       "    }\n",
       "\n",
       "    .dataframe thead th {\n",
       "        text-align: right;\n",
       "    }\n",
       "</style>\n",
       "<table border=\"1\" class=\"dataframe\">\n",
       "  <thead>\n",
       "    <tr style=\"text-align: right;\">\n",
       "      <th></th>\n",
       "      <th>content</th>\n",
       "    </tr>\n",
       "  </thead>\n",
       "  <tbody>\n",
       "    <tr>\n",
       "      <th>0</th>\n",
       "      <td>Joe Biden . Hôm nay ( tức ngày 5 tháng 6 . là ...</td>\n",
       "    </tr>\n",
       "    <tr>\n",
       "      <th>1</th>\n",
       "      <td>NỮ SINH NGHÈO ĐƯỢC 4 ĐẠI HỌC TUYỂN THẲNG\\nĐược...</td>\n",
       "    </tr>\n",
       "    <tr>\n",
       "      <th>2</th>\n",
       "      <td>Nhà hàng kinh doanh ngang nhiên \" xẻ thịt \" cô...</td>\n",
       "    </tr>\n",
       "    <tr>\n",
       "      <th>3</th>\n",
       "      <td>Cả nhà ơi mẹ em vừa gọi bảo trên quê em có một...</td>\n",
       "    </tr>\n",
       "    <tr>\n",
       "      <th>4</th>\n",
       "      <td>Ngoài vụ ở Thái  Nguyên tôi đã vạch  trần hôm ...</td>\n",
       "    </tr>\n",
       "  </tbody>\n",
       "</table>\n",
       "</div>"
      ],
      "text/plain": [
       "                                             content\n",
       "0  Joe Biden . Hôm nay ( tức ngày 5 tháng 6 . là ...\n",
       "1  NỮ SINH NGHÈO ĐƯỢC 4 ĐẠI HỌC TUYỂN THẲNG\\nĐược...\n",
       "2  Nhà hàng kinh doanh ngang nhiên \" xẻ thịt \" cô...\n",
       "3  Cả nhà ơi mẹ em vừa gọi bảo trên quê em có một...\n",
       "4  Ngoài vụ ở Thái  Nguyên tôi đã vạch  trần hôm ..."
      ]
     },
     "execution_count": 3,
     "metadata": {},
     "output_type": "execute_result"
    }
   ],
   "source": [
    "#df = pd.read_csv('data_test_pharse1.csv')\n",
    "df = pd.read_csv('baochi.csv')\n",
    "df.head()"
   ]
  },
  {
   "cell_type": "code",
   "execution_count": 13,
   "id": "9b8ba556",
   "metadata": {},
   "outputs": [
    {
     "name": "stdout",
     "output_type": "stream",
     "text": [
      "<class 'pandas.core.frame.DataFrame'>\n",
      "RangeIndex: 40 entries, 0 to 39\n",
      "Data columns (total 1 columns):\n",
      " #   Column   Non-Null Count  Dtype \n",
      "---  ------   --------------  ----- \n",
      " 0   content  40 non-null     object\n",
      "dtypes: object(1)\n",
      "memory usage: 448.0+ bytes\n"
     ]
    }
   ],
   "source": [
    "df.info()"
   ]
  },
  {
   "cell_type": "markdown",
   "id": "43310539",
   "metadata": {},
   "source": [
    "## Preprocessing sentence"
   ]
  },
  {
   "cell_type": "code",
   "execution_count": 10,
   "id": "9d977484",
   "metadata": {
    "collapsed": true
   },
   "outputs": [
    {
     "name": "stdout",
     "output_type": "stream",
     "text": [
      "Requirement already satisfied: pyvi in e:\\tailieu\\hk2_n3\\bigdata\\jupyter\\lib\\site-packages (0.1.1)\n",
      "Requirement already satisfied: sklearn-crfsuite in e:\\tailieu\\hk2_n3\\bigdata\\jupyter\\lib\\site-packages (from pyvi) (0.3.6)\n",
      "Requirement already satisfied: scikit-learn in e:\\tailieu\\hk2_n3\\bigdata\\jupyter\\lib\\site-packages (from pyvi) (1.2.1)\n",
      "Requirement already satisfied: scipy>=1.3.2 in e:\\tailieu\\hk2_n3\\bigdata\\jupyter\\lib\\site-packages (from scikit-learn->pyvi) (1.10.0)\n",
      "Requirement already satisfied: threadpoolctl>=2.0.0 in e:\\tailieu\\hk2_n3\\bigdata\\jupyter\\lib\\site-packages (from scikit-learn->pyvi) (2.2.0)\n",
      "Requirement already satisfied: numpy>=1.17.3 in e:\\tailieu\\hk2_n3\\bigdata\\jupyter\\lib\\site-packages (from scikit-learn->pyvi) (1.23.5)\n",
      "Requirement already satisfied: joblib>=1.1.1 in e:\\tailieu\\hk2_n3\\bigdata\\jupyter\\lib\\site-packages (from scikit-learn->pyvi) (1.1.1)\n",
      "Requirement already satisfied: python-crfsuite>=0.8.3 in e:\\tailieu\\hk2_n3\\bigdata\\jupyter\\lib\\site-packages (from sklearn-crfsuite->pyvi) (0.9.9)\n",
      "Requirement already satisfied: tabulate in e:\\tailieu\\hk2_n3\\bigdata\\jupyter\\lib\\site-packages (from sklearn-crfsuite->pyvi) (0.8.10)\n",
      "Requirement already satisfied: six in e:\\tailieu\\hk2_n3\\bigdata\\jupyter\\lib\\site-packages (from sklearn-crfsuite->pyvi) (1.16.0)\n",
      "Requirement already satisfied: tqdm>=2.0 in e:\\tailieu\\hk2_n3\\bigdata\\jupyter\\lib\\site-packages (from sklearn-crfsuite->pyvi) (4.64.1)\n",
      "Requirement already satisfied: colorama in e:\\tailieu\\hk2_n3\\bigdata\\jupyter\\lib\\site-packages (from tqdm>=2.0->sklearn-crfsuite->pyvi) (0.4.6)\n",
      "Note: you may need to restart the kernel to use updated packages.\n"
     ]
    }
   ],
   "source": [
    "pip install pyvi"
   ]
  },
  {
   "cell_type": "code",
   "execution_count": 4,
   "id": "71d56023",
   "metadata": {},
   "outputs": [
    {
     "name": "stderr",
     "output_type": "stream",
     "text": [
      "[nltk_data] Downloading package punkt to\n",
      "[nltk_data]     C:\\Users\\ADMIN\\AppData\\Roaming\\nltk_data...\n",
      "[nltk_data]   Package punkt is already up-to-date!\n"
     ]
    }
   ],
   "source": [
    "import nltk\n",
    "from pyvi import ViTokenizer\n",
    "nltk.download('punkt')\n",
    "import re\n",
    "import html"
   ]
  },
  {
   "cell_type": "code",
   "execution_count": 5,
   "id": "283e1abb",
   "metadata": {},
   "outputs": [],
   "source": [
    "user_regex = r\"(@\\w{1,15})\"\n",
    "hashtag_regex = r\"(#\\w{1,})\"\n",
    "url_regex = r\"((https?|ftp|file):\\/{2,3})+([-\\w+&@#\\/%=~|$?!:,.]*)|(www.)+([-\\w+&@#\\/%=~|$?!:,.]*)\"\n",
    "email_regex = r\"[\\w.-]+@[\\w.-]+\\.[a-zA-Z]{1,}\"\n",
    "\n",
    "def html_unescape(s):\n",
    "    return html.unescape(s)\n",
    "\n",
    "# Clear data\n",
    "def clean_text(text):\n",
    "    text = re.sub(url_regex, '', text)     # Xoá URL\n",
    "    text = re.sub(email_regex, '', text)   # Xoá email\n",
    "    text = re.sub(user_regex, '', text)    # Xoá tên người dùng dạng @...\n",
    "    text = text.replace('#', ' ')          # Thay #HTML\n",
    "    # text = text.replace('\\n', '.')  = ''\n",
    "    text = html_unescape(text)             # Decode kí tự \n",
    "    if text == '':\n",
    "        return None\n",
    "    return text\n",
    "\n",
    "# Tokenizer\n",
    "def word_segmentation(sentence):\n",
    "    segmented_sentence = ViTokenizer.tokenize(sentence)\n",
    "    segmented_words = segmented_sentence.split()\n",
    "    return ' '.join(segmented_words)\n",
    "\n",
    "\n",
    "def preprocessing(sentence):\n",
    "    sentence = clean_text(sentence)\n",
    "    sentence = word_segmentation(sentence)\n",
    "    return sentence"
   ]
  },
  {
   "cell_type": "markdown",
   "id": "e998c645",
   "metadata": {},
   "source": [
    "## Load model"
   ]
  },
  {
   "cell_type": "code",
   "execution_count": 6,
   "id": "5eccf754",
   "metadata": {},
   "outputs": [],
   "source": [
    "from sklearn.preprocessing import FunctionTransformer\n",
    "def get_text_data(x):\n",
    "    return [record[0] for record in x]\n",
    "transformer_text = FunctionTransformer(get_text_data)"
   ]
  },
  {
   "cell_type": "code",
   "execution_count": 7,
   "id": "92f37ce0",
   "metadata": {
    "scrolled": true
   },
   "outputs": [],
   "source": [
    "import joblib\n",
    "\n",
    "# Đường dẫn tới file model\n",
    "model_path =  \"C:\\\\Users\\\\ADMIN\\\\BigData\\\\models\\\\modelSVM_to_treaming.hdf5\"\n",
    "\n",
    "# Đọc model từ file\n",
    "model = joblib.load(model_path)\n",
    "# Đường dẫn tới tệp chứa pipeline đã lưu\n",
    "pipeline_path = \"C:\\\\Users\\\\ADMIN\\\\BigData\\\\models\\\\pipeline.pkl\"\n",
    "\n",
    "# Tải pipeline từ tệp\n",
    "pipeline_load = joblib.load(pipeline_path)"
   ]
  },
  {
   "cell_type": "markdown",
   "id": "812a6085",
   "metadata": {},
   "source": [
    "### Send messages"
   ]
  },
  {
   "cell_type": "code",
   "execution_count": 10,
   "id": "4431e574",
   "metadata": {
    "scrolled": true
   },
   "outputs": [
    {
     "name": "stdout",
     "output_type": "stream",
     "text": [
      "Producing message\n",
      "Producing message\n",
      "Producing message\n",
      "Producing message\n",
      "Producing message\n",
      "Producing message\n",
      "Producing message\n",
      "Producing message\n",
      "Producing message\n",
      "Producing message\n",
      "Done\n"
     ]
    }
   ],
   "source": [
    "def send_message(topic):\n",
    "    producer = KafkaProducer(bootstrap_servers=['localhost:9092'])\n",
    "    \n",
    "    for i in range(10):\n",
    "        sentence = preprocessing(df.loc[i, 'content'])\n",
    "        sentence_numpy = pd.DataFrame([sentence]).to_numpy()\n",
    "        sentence_transform = pipeline_load.transform(sentence_numpy)\n",
    "        # Dự đoán\n",
    "        prediction = model.predict(sentence_transform)\n",
    "        \n",
    "        record = {'sentence-raw': df.loc[i, 'content'],'sentences-clean': sentence, 'label': int(prediction[-1])}\n",
    "        try:\n",
    "            # send message to topic\n",
    "            producer.send(topic, json.dumps(record, ensure_ascii=False).encode('utf-8'))\n",
    "            print(\"Producing message\")\n",
    "        except Exception as e:\n",
    "            print(\"Fail produce message: {}\".format(str(e)))\n",
    "        sleep(5)\n",
    "            \n",
    "\n",
    "\n",
    "topic = 'detection'\n",
    "send_message(topic)\n",
    "print('Done')"
   ]
  },
  {
   "cell_type": "code",
   "execution_count": 24,
   "id": "a223d991",
   "metadata": {},
   "outputs": [],
   "source": [
    "producer.close()"
   ]
  },
  {
   "cell_type": "code",
   "execution_count": 38,
   "id": "c3efd233",
   "metadata": {},
   "outputs": [
    {
     "name": "stdout",
     "output_type": "stream",
     "text": [
      "{'date-time': '14/07/2023 12:01:52', 'sentence-raw': \"Chiều 31/7, Công an tỉnh Thừa Thiên - Huế đã có thông tin ban đầu về vụ nổ súng,cướp tiệm vàng tại chợ Đông Ba nằm trên đường Trần Hưng Đạo (TP Huế, tỉnh Thừa Thiên - Huế). Thông Sài Gòn Giải Phóng, khoảng 12h30' ngày 31/7, một đối tượng sử dụng súng AK bất ngờ xông vào tiệm vàng Hoàng Đức và Thái Lợi (phía trước chợ Đông Ba) rồi nổ súng chỉ thiên liên tiếp uy hiếp chủ tiệm để cướp vàng. Sau đó, đối tượng mang số vàng vừa cướp được vứt ra vỉa hè rồi đi bộ đến khu vực cầu Gia Hội, cách khu vực gây án khoảng 300m. Giám đốc Công an tỉnh Thừa Thiên – Huế lập tức trực tiếp chỉ đạo các lực lượng chức năng gồm Công an tỉnh và Công an TP Huế nhanh chóng có mặt tại hiện trường triển khai đồng bộ các biện pháp nghiệp vụ, khoanh vùng và ngăn không để người dân đi vào hiện trường. Hàng trăm tiểu thương trong chợ Đông Ba và người dân gần cầu Gia Hội được yêu cầu di chuyển khỏi hiện trường, đóng cửa nhà đề phòng đạn lạc. Tuy nhiên, thấy vàng bị ném ra đường, nhiều người đua nhau nhặt, tạo cảnh nhốn nháo trước cổng chợ. Do đây là khu vực trung tâm TP Huế, đông dân nên để đảm bảo an toàn cho người dân, lực lượng công an đã tìm cách hướng đối tượng ra nhà lục giác tại khu vực Công viên Trịnh Công Sơn (cạnh cầu Gia Hội). Lúc này, đối tượng có biểu hiện kích động muốn tự tử nên Đại tá Phạm Văn Toàn, Trưởng Phòng Cảnh sát hình sự Công an tỉnh Thừa Thiên – Huế và một số đồng chí Công an khác trực tiếp tiếp cận, thuyết phục đối tượng. Đối tượng lại yêu cầu được nói chuyện với Đại tá Đặng Ngọc Sơn, Phó Giám đốc Công an tỉnh. Ngay sau đó, khi được Đại tá Đặng Ngọc Sơn gặp gỡ, động viên, thuyết phục, đối tượng đã đồng ý hạ và giao nộp vũ khí. Theo VnExpress cho biết, tên cướp là Ngô Văn Quốc, 38 tuổi, quân hàm đại úy, công tác tại Trại giam Bình Điền, đóng ở xã Bình Tiến, thị xã Hương Trà. Khẩu súng gây án đã bị thu giữ. Hiện trường hai tiệm vàng bị phong tỏa để công an khám nghiệm. Phía trong nhiều mảnh kính bị vỡ văng vãi khắp nơi. Đông Ba là chợ nổi tiếng và sầm uất nhất TP Huế, nằm bên bờ bắc sông Hương, trên đường Trần Hưng Đạo. Nơi đây thu hút nhiều du khách trong và ngoài nước trong hành trình du lịch Huế. Theo MT (2sao/VietNamNet) https://2sao.vn/ten-cuop-tiem-vang-tai-hue-la-dai-uy-cong-an-cong-tac-tai-trai-giam-n-315312.html Trang Thông tin điện tử Docbao.vn Công ty Cổ phần Quang Minh Việt Nam Giấy phép thiết lập Trang thông tin điện tử tổng hợp trên Internet số 2372/GP-STTTT cấp ngày 29/8/2014. SĐT: 024. 666.40816 Địa chỉ: P604, Tầng 6, Tòa nhà Golden Field, Khu đô thị mới Mỹ Đình 1, phường Cầu Diễn, quận Nam Từ Liêm, Hà Nội Chịu trách nhiệm nội dung: Điều Thị Bích; ĐT: 0903.263.198; Email: docbao@kib.vn Đọc báo trực tuyến hiện tại chỉ sử dụng tên miền duy nhất là docbao.vn; độc giả lưu ý tránh nhầm lẫn. Chính sách bảo mật RSS\", 'label': 0}\n",
      "________________________________________________________________________________________________________________________\n",
      "{'date-time': '14/07/2023 12:01:52', 'sentence-raw': 'Gần đây, Thứ trưởng Bộ Phát triển Kỹ thuật số, Truyền thông và Truyền thông đại chúng Nga - Oleg Ivanov cho biết trong một cuộc phỏng vấn rằng, đến năm 2025\\xa0Viện Khoa học & Công nghệ Skolkovo và đài phát thanh trực thuộc Bộ Kỹ thuật số Nga, Viện Khoa học Chế tạo sẽ nhận được khoản phân bổ 30 tỷ rúp để thúc đẩy các dự án chung về thiết bị liên lạc di động thế hệ thứ 6 (6G). Dự kiến, thiết bị 6G có thể được chế tạo trước năm 2025. Điều đó có nghĩa là giới chức Nga không còn quan tâm đến việc phát triển công nghệ 5G nữa mà đặt cược vốn và nguồn nhân lực của mình vào công nghệ 6G. Cách tiếp cận này rất táo bạo bởi nhìn chung, công nghệ truyền thông hiện đại cần phải tích lũy công nghệ từ thế hệ này sang thế hệ khác\\xa0và sự phát triển giữa các thế hệ thường rất khó khăn. Điều khó khăn hơn nữa là 6G hiện đang trong giai đoạn nghiên cứu ban đầu trên khắp thế giới, các tiêu chuẩn kỹ thuật liên quan vẫn chưa được xác định và việc phát triển sản phẩm vẫn còn rất xa. Do đó, giới chức Nga vẫn chưa công bố thông tin chi tiết cụ thể. Ngay cả khi Nga có thể phát triển sớm mạng lưới 6G, quốc gia này có thể sớm bị tụt hậu vì các quốc gia khác sẽ nhanh chóng bắt kịp. Nhưng điều quan trọng nhất là các nhà mạng tại Nga tin rằng nhiều người tiêu dùng nước này vẫn chưa sẵn sàng nâng cấp mạng di động vì đối với họ mạng 4G là quá đủ. Các nhà mạng này thậm chí còn không bị làm phiền bởi mạng 5G chứ chưa nói đến mạng 6G còn rất lâu mới hoàn thiện.', 'label': 0}\n",
      "________________________________________________________________________________________________________________________\n",
      "{'date-time': '14/07/2023 12:01:52', 'sentence-raw': 'Kết quả thi tốt nghiệp THPT năm 2022 cho thấy điểm trung bình các môn toán, ngoại ngữ giảm, riêng ngữ văn tăng so với năm 2021. Về tổng điểm của 3 môn học năm 2022 là 18,13, giảm so với năm 2021 (18,92 điểm). Có 60 địa phương giảm tổng điểm 3 môn (chiếm 95,24%), chỉ có 3 địa phương tăng (chiếm 4,76%): Hòa Bình tăng 0,93 điểm, Hải Phòng tăng 0,57 và Vĩnh Phúc tăng 0,09. Có 5 địa phương giảm nhiều là Sóc Trăng (giảm 1,36 điểm), Bến Tre (1,37), Kon Tum (1,51), Lai Châu (1,53) và An Giang (1,61). Bình Dương có tổng 3 môn ngữ văn, toán và ngoại ngữ là 20,48 điểm, dẫn đầu cả nước. Tiếp theo là Hải Phòng (20,39 điểm), Nam Định (20,22), Vĩnh Phúc (20,01), Ninh Bình (19,82), TP.HCM (19,80), Hà Nam (19,46), Bắc Ninh (19,39), Hà Nội (19,25) và Tiền Giang (19,06)... Toàn quốc có 4 địa phương tổng điểm 3 môn trên 20 điểm (chiếm 6,35%), 21 địa phương từ 18 đến dưới 20 điểm (33,33%), 37 địa phương từ 15 đến dưới 18 điểm (58,73%) và 1 địa phương dưới 15 điểm (1,56%). 10 địa phương có tổng điểm 3 môn thấp nhất là Bắc Kạn (16,03 điểm), Điện Biên (16,0), Hậu Giang (16,0), Lạng Sơn (15,86), Trà Vinh (15,70), Đắk Nông (15,55), Lai Châu (15,13), Sơn La (15,12), Cao Bằng (15,11), Hà Giang (13,74). Môn ngữ văn là môn thi có tăng điểm nhưng không nhiều, từ 6,47 năm 2021 lên 6,51 năm 2022. Tỷ lệ điểm văn giỏi (từ 8 trở lên) tăng, năm 2021 là 14,9% và năm 2022 là 16,98%. Đối sánh thứ hạng môn ngữ văn của các địa phương trong giai đoạn 2017 - 2022 cho thấy, nhiều tỉnh, thành thứ hạng không biến động nhiều. Trong đó, có một số địa phương tiến bộ trong 2 năm gần đây như: Vĩnh Phúc (năm 2017: xếp hạng 1; 2018: xếp hạng 9; 2019: xếp hạng 4; 2020: xếp hạng 2; 2021: xếp hạng 2; 2022: xếp hạng 2), Hải Phòng (7; 1; 2; 9; 1; 1), Ninh Bình (3; 3; 8; 11; 11; 4), Nghệ An (19; 7; 3; 20; 4; 6), Thanh Hóa (6; 2; 15; 8; 16; 8), Hải Dương (27; 20; 11; 31; 31; 16). Bên cạnh đó cũng có một số địa phương môn ngữ văn trồi sụt như: Quảng Ngãi (14; 39; 38; 32; 8; 25), Đồng Tháp (16; 40; 36; 28; 7; 20), TP.HCM (12; 35; 50; 47; 20; 34). Môn ngữ văn có điểm trung bình học bạ lớp 12 của cả nước năm 2022 là 7,21 trong khi trung bình điểm thi chỉ đạt 6,51 (lệch 0,7 điểm) là phù hợp. Tuy nhiên, khi so sánh thứ hạng hai chỉ số này, một số địa phương có thay đổi lớn. Chẳng hạn, Bắc Kạn có trung bình điểm học bạ xếp thứ 63, nhưng trung bình điểm thi xếp thứ 35, TP.HCM có trung bình học bạ xếp thứ 18 (7,31 điểm) nhưng trung bình điểm thi xếp thứ 34 (6,34 điểm). Môn toán là môn có điểm trung bình giảm, từ 6,61 năm 2021 xuống 6,47 năm 2022. Tỷ lệ điểm toán giỏi giảm 4,05%, năm 2021 là 25,9%, năm 2022 là 21,85%. Nhìn chung môn toán nhiều tỉnh có thứ hạng khá ổn định trong cả giai đoạn 2017 - 2022. Các địa phương như Nam Định, Bình Dương, TP.HCM, Hà Nam, Ninh Bình là những địa phương có điểm môn toán luôn ở top 10, đặc biệt là Nam Định 6 năm liền đứng đầu cả nước. Một số địa phương có tiến bộ trong những năm gần đây như: Vĩnh Phúc (20; 23; 22; 19; 15; 7), Bạc Liêu (12; 16; 9; 30; 18; 15), Hà Tĩnh (31; 30; 33; 35; 24; 20), Lào Cai (40; 39; 45; 50; 43; 38). Một số tỉnh có thứ hạng môn toán giảm những năm gần đây: Bình Phước (24; 22; 21; 23; 27; 37), Hậu Giang (46; 46; 46; 38; 53; 51), Trà Vinh (47; 45; 43; 42; 54; 55), Bà Rịa-Vũng Tàu (7; 6; 3; 3; 10; 13;), Tây Ninh (15; 19; 14; 18; 21; 25). Môn toán có điểm trung bình học bạ toàn quốc là 7,51, trong khi trung bình điểm thi 6,47 điểm (lệch 1,04 điểm). Khi đối sánh điểm thi của môn toán so với học bạ có độ vênh đáng kể ở một số địa phương như: Điểm học bạ của Hải Phòng là 8,14 điểm, xếp thứ 1, nhưng điểm thi là 6,92 điểm, xếp thứ 8 (lệch 1,12 điểm); Đồng Tháp điểm học bạ 8,01, xếp thứ 2, điểm thi là 6,49, xếp thứ 26 (lệch 1,52 điểm); Hải Dương điểm học bạ 7,99, điểm thi 6,71 (lệch 1,28 điểm), Hà Nội điểm học bạ 7,94, điểm thi là 6,77 (lệch 1,17 điểm). Trong khi đó, Nam Định có điểm học bạ xếp thứ 9, nhưng điểm thi xếp thứ 1. Điều này khẳng định rằng, Nam Định là một tỉnh thực hiện rất tốt tinh thần \"học thật, thi thật\". Ngoại ngữ là môn có điểm trung bình giảm, từ 5,84 năm 2021 xuống 5,15 năm 2022. Tỷ lệ điểm ngoại ngữ giỏi giảm 12,1%, từ 24,0% năm 2021 xuống 11,9% năm 2022. Môn ngoại ngữ là thế mạnh của các tỉnh, thành phố có kinh tế - xã hội, du lịch, công nghiệp phát triển. Các địa phương như TP.HCM, Bình Dương, Bà Rịa-Vũng Tàu, Hà Nội, Hải Phòng, Đà Nẵng, Vĩnh Phúc, Nam Định, Ninh Bình... là những địa phương thường ở top đầu về ngoại ngữ, đặc biệt là TP.HCM cả 6 năm đều đứng đầu. Một số địa phương có thứ hạng ngoại ngữ tiến bộ trong giai đoạn 2017 - 2022 như: Vĩnh Phúc (11; 13; 13; 18; 10; 7), Bắc Ninh (21; 22; 22; 26; 17; 10), Hà Tĩnh (42; 46; 49; 49; 36; 30), Quảng Ninh (31; 41; 35; 32; 23; 15), Phú Thọ (23; 14; 29; 41; 26; 25). Bên cạnh đó, một số tỉnh có thứ hạng ngoại ngữ giảm như: Trà Vinh (43; 42; 40; 34; 56; 58), Hậu Giang (54; 55; 52; 44; 58; 60); Ninh Thuận (13; 8; 14; 14; 40; 43); Kon Tum (34; 32; 31; 28; 39; 45), Bến Tre (30; 19; 15; 12; 29; 33). Đối sánh giữa điểm thi và điểm học bạ cho thấy, điểm học bạ của môn ngoại ngữ khá cao nhưng điểm thi lại quá thấp, trung bình học bạ cả nước là 7,27, nhưng điểm thi là 5,15 (lệch 2,12 điểm). Hải Phòng có điểm trung bình học bạ cao nhất nước (8,04 điểm), nhưng điểm thi xếp thứ 5 với 5,775 điểm (lệch 2,265 điểm). Nhìn chung các tỉnh, thành phố có thế mạnh 3 môn ngữ văn, toán, ngoại ngữ vẫn giữ vững thành tích của mình. Trong 10 địa phương top đầu 3 môn này năm 2022 có 6 địa phương dẫn đầu cả 3 môn (Bình Dương, Hải Phòng, Nam Định, Vĩnh Phúc, Ninh Bình, Bắc Ninh), 2 địa phương dẫn đầu 2 môn (Hà Nam, TP.HCM), 8 địa phương dẫn đầu 1 môn (Hà Tĩnh, Nghệ An, Thanh Hóa, Thái Bình, Tiền Giang, Bà Rịa-Vũng Tàu, Hà Nội, Đà Nẵng).', 'label': 0}\n",
      "________________________________________________________________________________________________________________________\n",
      "{'date-time': '14/07/2023 12:01:52', 'sentence-raw': 'Thống đốc Kentucky Andy Beshear hôm 31/7 cho hay sau đợt mưa lũ xối xả vào tuần trước, chính quyền đang nỗ lực làm việc để cung cấp thực phẩm cùng nơi trú ẩn cho hàng nghìn người dân phải sơ tán. Nhiều ngôi nhà ở Kentucky đã bị lũ cuốn trôi sau những ngày mưa lớn mà Thống đốc Beshear miêu tả là \"một trong những điều tồi tệ nhất trong lịch sử bang\". Lực lượng cứu hộ đang nỗ lực tìm kiếm, cứu trợ các nạn nhân. Giới chức Kentucky cảnh báo số người chết vì mưa lũ có thể tiếp tục tăng, trong khi tình hình thời tiết có thể cản trở công việc cứu hộ. Cơ quan Thời tiết Quốc gia dự báo một số đợt mưa lớn và bão sẽ kéo dài tới hết ngày 2/8, trong đó cảnh báo lũ lụt được phát đến sáng 1/8 ở miền nam và miền đông bang Kentucky. Thống đốc Beshear trước đó cho biết giới chức khu vực có thể phải \"tìm kiếm các thi thể trong nhiều tuần\" khi lực lượng cứu hộ di chuyển tới các khu vực xa xôi hơn. Đợt lũ lụt này là thảm họa lớn thứ hai tấn công Kentucky trong vòng 7 tháng, sau đợt lốc xoáy khiến gần 80 người thiệt mạng hồi tháng 12/2021. Tổng thống Mỹ Joe Biden đã tuyên bố tình trạng thảm họa ở Kentucky hôm 26/7, cho phép phân bổ nguồn tài trợ liên bang về bang. Giới chuyên gia nhận định các trận mưa lớn gắn liền với biến đổi khí hậu đã gia tăng đáng kể trong vòng 100 năm qua. Đánh giá khí hậu quốc gia của chính phủ Mỹ cho thấy khả năng xảy ra các trận mưa lớn ở khu vực phía đông bang Kentucky cao hơn 20-40% so với những năm 1900. Ngọc Ánh (Theo Reuters)', 'label': 0}\n",
      "________________________________________________________________________________________________________________________\n",
      "{'date-time': '14/07/2023 12:01:52', 'sentence-raw': 'Vụ tai nạn giao thông liên hoàn trên phố đi bộ Tam Bạc, Hải Phòng vừa xảy ra khiến nhiều người bị thương. Theo những người dân xung quanh khu vực phố đi bộ cho biết, vào khoảng 20h30 trên tuyến đường từ Đền Tam Kỳ về phía Lãn Ông (quận Hồng Bàng), xe ô tô hiệu KIA, BKS 15A- 185.65 loại 5 chỗ, màu đen bất ngờ lao vào những xe máy đang lưu thông trên đường. Bị đâm bất ngờ, hàng loạt xe máy và người trên xe bị ngã văng ra xa, có xe máy chui vào gầm xe ô tô đỗ bên đường. Khung cảnh lúc đó diễn ra vô cùng hoảng loạn, sợ hãi. Ai nấy đều la hét. Xe ô tô \"điên\" chỉ dừng lại khi lao lên vỉa hè đâm vào 1 nhà dân gần đó Cũng theo người dân xung quanh, lúc bước ra khỏi xe, lái xe tuổi khoảng hơn 30, trạng thái tinh thần không có biểu hiện bị kích động. Trong xe chỉ có mỗi lái xe, túi khí đã bị bung ra. Những nạn nhân của vụ tai nạn hiện đã được đưa đi cấp cứu tại bệnh viện Việt Tiệp gần đó. Lực lượng công an quận Hồng Bàng và CATP cũng đã kịp có mặt tại hiện trường bảo vệ hiện trường, thu thập điều tra, đồng thời phối hợp với người dân đưa nạn nhân đi cấp cứu. Vụ việc đang được cơ quan chức năng tiếp tục làm rõ.', 'label': 0}\n",
      "________________________________________________________________________________________________________________________\n",
      "{'date-time': '14/07/2023 12:01:52', 'sentence-raw': 'Chia sẻ trên Twitter, thị trưởng Hanover Belit Onay cho biết mục đích của những biện pháp trên là giảm mức tiêu thụ năng lượng xuống 15%, mức mà EU thông qua để đối phó với việc Nga giảm công suất đường ống Nord Stream 1 xuống còn 20% từ 27-7. Thách thức bủa vây Mới đây, tờ báo Đức Die Welt dẫn lời các chuyên gia kinh tế nước này cảnh báo những thách thức hiện tại như lạm phát cao kỷ lục, tình trạng thiếu lao động, sự tắc nghẽn nguồn cung nguyên liệu quan trọng và nguy cơ thiếu khí đốt có thể khiến nền kinh tế đầu tàu châu Âu rơi vào suy thoái trong năm nay. Nord Stream 1 là nguồn cung cấp khí đốt lớn nhất cho Đức với tỉ lệ 32% (theo số liệu của Reuters cập nhật đến tháng 12-2021). Đức đang phải chịu ảnh hưởng rất nặng nề về việc cắt giảm nguồn khí đốt từ Nga. Nền kinh tế Đức dựa chủ yếu vào những ngành công nghiệp như hóa chất, ôtô hoặc thép. Tất cả những ngành công nghiệp này đều đòi hỏi Đức cung cấp một lượng nhiên liệu lớn, và hơn 2/3 trong số đó là được nhập khẩu. Chỉ tính riêng ngành công nghiệp hóa chất của Đức đã sử dụng 27% nguồn cung cấp khí đốt của cả nước. Hơn thế nữa, phần lớn kinh tế của Đức dựa vào việc xuất khẩu. Việc các doanh nghiệp trọng điểm không thể hoạt động như trước sẽ gây ảnh hưởng rất lớn đến thị trường của Đức, và từ đó cũng gây ảnh hưởng rất nhiều cho người dân. Tháng 5 vừa qua, \"nhà vô địch thế giới\" về xuất khẩu thậm chí đã ghi nhận thâm hụt thương mại lần đầu tiên kể từ năm 1991, sau khi nước Đức thống nhất. Theo một nghiên cứu gần đây của Quỹ Tiền tệ quốc tế (IMF), nguy cơ Nga cắt hoàn toàn nguồn cung cấp khí đốt tự nhiên đến với Đức sẽ gây ảnh hưởng rất lớn nền kinh tế nước này. Cụ thể, viễn cảnh này có thể dẫn đến tình trạng thiếu 9% lượng khí đốt tiêu thụ của Đức trong nửa cuối năm 2022, 10% vào năm 2023 và 4% vào năm 2024. Khi nhu cầu sử dụng khí đốt tăng cao vào mùa đông năm 2022, các doanh nghiệp sẽ hứng chịu nhiều thiệt hại nặng nề và có khả năng phải giảm tải mô hình hoạt động. Nghiên cứu của IMF cũng cho rằng lượng cung cấp hàng hóa và dịch vụ của các doanh nghiệp sẽ giảm tải do nền kinh tế hoạt động bất ổn. Từ đó, GDP của Đức so với mức cơ bản có thể giảm khoảng 1,5% vào năm 2022, 2,7% vào năm 2023 và 0,4% vào năm 2024. Giá khí đốt tăng cao cũng có thể làm tăng lạm phát đến 2 điểm phần trăm vào năm 2022 và 2023. Ngoài ra, theo Ngân hàng Thụy Sĩ UBS, việc Đức rơi vào cảnh thiếu hụt khí đốt, suy thoái kinh tế là điều khó tránh khỏi và thiệt hại có thể lên đến 6% GDP vào cuối năm 2023. Với giá năng lượng dự kiến sẽ tiếp tục tăng và lạm phát tháng 7-2022 là 7,5%, niềm tin của nhà đầu tư vào Đức đã giảm xuống mức thấp nhất trong một thập niên. Nhiều giải pháp\\xa0tạm thời Bộ trưởng Kinh tế Đức Robert Habeck đang kêu gọi người dân Đức phải tiết kiệm hơn trong việc sử dụng năng lượng. Đối mặt với nguy cơ nguồn cung cấp khí đốt giảm, tại thời điểm hiện tại, các hộ gia đình, trường học và thành phố đang bắt đầu ít sử dụng máy sưởi, phân chia nước nóng, đóng cửa hồ bơi, tiết kiệm các nguồn sử dụng năng lượng. Để giúp các quốc gia trong khối đối mặt với khó khăn về năng lượng, EU đã ký một thỏa thuận khí đốt mới với Azerbaijan vào ngày 18-7 vừa qua, theo đó Azerbaijan sẽ cung cấp 12 tỉ m3 khí đốt trong năm nay, tăng mạnh so với mức 8,1 tỉ m3 năm 2021. Ngoài hỗ trợ từ EU, Đài DW cho biết Đức đang cân nhắc khởi động lại nguồn cung cấp năng lượng điện than. Hiện nay, Đức vẫn đang còn 151 nhà máy điện than hoạt động, mặc dù Berlin đang có kế hoạch cắt giảm nguồn điện than dần dần đến năm 2038. Về lâu dài, Tom Krebs, một nhà kinh tế học tại Đại học Mannheim và cố vấn cho bộ tài chính của Chính phủ Đức, lập luận với tờ New York Times rằng Đức chỉ có thể trở nên cạnh tranh hơn nếu nước này quản lý tốt quá trình chuyển đổi năng lượng. Chính phủ Đức đang thúc đẩy chuyển dịch sang năng lượng tái tạo, đặt mục tiêu năng lượng tái tạo sẽ đóng góp 80% sản lượng điện của cả nước vào năm 2030. Trong những năm gần đây, ngành công nghiệp này đã phát triển và đóng góp hơn 40% vào tổng năng lượng do Đức sử dụng. Các chuyên gia dự đoán quá trình chuyển đổi hoàn toàn sang năng lượng tái tạo của Đức có thể mất từ 5 đến 8 năm, nhưng cuộc khủng hoảng năng lượng do xung đột Nga - Ukraine hiện nay có thể đẩy quá trình này diễn ra nhanh hơn.', 'label': 0}\n",
      "________________________________________________________________________________________________________________________\n",
      "{'date-time': '14/07/2023 12:01:52', 'sentence-raw': '\"Em vỡ òa trong hạnh phúc khi được xướng tên ở ngôi vị cao nhất. Tham gia cuộc thi này, ban đầu em có chút hồi hộp vì đây là sân chơi lớn, tầm vóc quốc tế. Cuối cùng những nỗ lực của em đã đem lại kết quả xứng đáng. Nhờ cuộc thi, em được giao lưu, quen biết thêm nhiều bạn bè và có dịp giới thiệu hình ảnh Việt Nam với bạn bè thế giới\", Ngô Ngọc Gia Hân nói. Tân Miss Teen International 2022 sinh năm 2006, hiện là học sinh lớp 10, trường PTTH Đinh Thiện Lý, TP. Hồ Chí Minh. Cô cao 1,68 m, sử dụng tiếng Anh lưu loát. Gia Hân có thành tích 10 năm liền là học sinh giỏi, từng đoạt giải nhì cuộc thi Siêu nhí tranh tài tổ chức ở Malaysia năm 2018 và giành giải thưởng trong một số cuộc thi hùng biện, kể chuyện bằng tiếng Anh. ', 'label': 0}\n",
      "________________________________________________________________________________________________________________________\n",
      "{'date-time': '14/07/2023 12:01:52', 'sentence-raw': 'Soi kèo nhà cái Liverpool vs Strasbourg. Nhận định, dự đoán bóng đá Giao hữu CLB (01h30, 1/8).\\xa0Dự đoán bóng đá Liverpool vs Strasbourg. Tỷ lệ kèo Giao hữu CLB. Tỷ lệ kèo, keonhacai, soi kèo nhà cái, nhận định bóng đá hôm nay 1/8, 2/8\\nTỷ lệ kèo, keonhacai, soi kèo nhà cái, nhận định bóng đá hôm nay ngày 1/8, 2/8. Tỷ lệ kèo nhà cái, dự đoán bóng đá giao hữu CLB, EURO nữ 2022, Siêu cúp Pháp. (adsbygoogle = window.adsbygoogle || []).push({});  Giao hữu CLB * 23h00, 31/7: Marseille vs Milan Xem trực tiếp Marseille vs Milan Soi kèo, nhận định Marseille vs Milan * 01h30, 1/8: Liverpool vs Strasbourg Xem trực tiếp Liverpool vs Strasbourg  (adsbygoogle = window.adsbygoogle || []).push({});   Nhận định Liverpool vừa có chiến thắng trước Man City. Đội quân của Klopp có chiến thắng 3-1 trước ĐKVĐ Anh để qua đó giành Siêu cúp Anh. Đó cũng là trận thắng thứ 3 trong 5 trận gần nhất. Ở loạt giao hữu mùa Hè trước đó, Liverpool đã có 2 chiến thắng và 2 trận hòa. Điều đáng ghi nhận từ Liverpool đó là việc tân binh Darwin Nunez đã càng chơi càng cho thấy sự hòa nhập. Anh mang về 1 quả 11m để Salah ghi bàn, rồi tự mình ấn định tỷ số 3-1 cho The Kop. Đó có thể coi là một tín hiệu đáng mừng đối với Lữ đoàn đỏ. Strasbourg đang có phong độ không cao. Họ chỉ thắng 2 trong 5 trận gần nhất. Vì lẽ đó, thật khó để\\xa0Strasbourg có thể ngăn Liverpool chiến thắng, dù trận này Klopp nhiều khả năng sẽ sử dụng đội hình hai. * Đội hình dự kiến: Liverpool:\\xa0Hughes; Gomez, Konate, Van den Berg, Milner; Jones, Morton, Keita; Carvalho, Nunez, Elliott. Strasbourg:\\xa0Sels; Dagba, Djiku, Perrin, Nyamsi, Delaine; Sissoko, Bellegarde; Thomasson; Ajorque, Diallo. - Đối đầu: Hai đội chưa gặp nhau  - Phong độ Liverpool  - Phong độ Strasbourg:   * Dự đoán của TT&VH: Liverpool 3-1 Strasbourg  T.G', 'label': 0}\n",
      "________________________________________________________________________________________________________________________\n",
      "{'date-time': '14/07/2023 12:01:52', 'sentence-raw': 'Siêu sao Bồ Đào Nha được HLV Erik ten Hag bố trí đá chính trước Vallecano trong lần tái xuất nhưng chỉ chơi vỏn vẹn 45 phút. Ronaldo là cầu thủ duy nhất bị Ten Hag rút ra ngay sau giờ nghỉ, nhường chỗ cho Amad Diallo. Chính Diallo là người tỏa sáng chỉ sau 2 phút có mặt trên sân, ghi bàn mở tỷ số cho MU. Theo những hình ảnh được ghi lại, Ronaldo đã xách ba lô bỏ về sớm dù tiếng còi mãn cuộc còn chưa vang lên. Theo The Times, CR7 nhận được sự chào đón nồng nhiệt của các fan bên ngoài sân, nhưng trông anh cau có và nhanh chóng bước lên xe ô tô.  Điều này càng dấy lên nhiều nghi ngại về tương lai của CR7 tại Man United. Hiện tại, Ronaldo vẫn muốn rời Old Trafford ngay hè này nhằm tìm một CLB có suất tại Champions League. HLV Ten Hag không nói gì về việc Ronaldo bỏ về sớm do MU đã quyết định không tổ chức buổi họp báo sau trận. Trong buổi phỏng vấn duy nhất với kênh MUTV, chiến lược gia người Hà Lan cũng không bị hỏi về hành động mới nhất của CR7. Trước khi trận gặp Vallecano diễn ra, Ronaldo đã đăng lên mạng xã hội dòng trạng thái với nội dung: \"Chủ nhật nhà vua sẽ ra sân\". Đáng tiếc là trước đại diện La Liga, tiền đạo 37 tuổi đã không thể tỏa sáng. Man United đã trải qua 3 trận giao hữu liên tiếp không biết mùi chiến thắng sau giai đoạn đầu hứng khởi. Vào 20h00 ngày 7/8 tới, MU sẽ tiếp Brighton ở trận ra quân tại Ngoại hạng Anh 2022/23.', 'label': 0}\n",
      "________________________________________________________________________________________________________________________\n",
      "{'date-time': '14/07/2023 12:01:52', 'sentence-raw': 'Nỗi lo nhà cửa xuống cấp chậm được sửa chữa chưa hết, thì hàng ngày, người lao động sống trong khu nhà ở công nhân Kim Chung, Đông Anh, TP.Hà Nội còn đối mặt với nỗi sợ từ những thang máy có nguy cơ hỏng hóc, thậm chí rơi bất cứ lúc nào. Câu chuyện thật như đùa này có thực đang xẩy ra ở khu nhà ở công nhân này không? Chúng tôi sẽ đề cập tới trong phóng sự tiếp theo!', 'label': 0}\n",
      "________________________________________________________________________________________________________________________\n"
     ]
    }
   ],
   "source": [
    "\n",
    "for i in range(10):\n",
    "    sentence = preprocessing(df.loc[i, 'content'])\n",
    "    sentence = pd.DataFrame([sentence]).to_numpy()\n",
    "    sentence = pipeline_load.transform(sentence)\n",
    "    # Dự đoán\n",
    "    prediction = model.predict(sentence)\n",
    "\n",
    "    record = {'date-time': current_now, 'sentence-raw': df.loc[i, 'content'], 'label': prediction[-1]}\n",
    "    print(record)\n",
    "    print('__'*60)"
   ]
  }
 ],
 "metadata": {
  "kernelspec": {
   "display_name": "Python 3 (ipykernel)",
   "language": "python",
   "name": "python3"
  },
  "language_info": {
   "codemirror_mode": {
    "name": "ipython",
    "version": 3
   },
   "file_extension": ".py",
   "mimetype": "text/x-python",
   "name": "python",
   "nbconvert_exporter": "python",
   "pygments_lexer": "ipython3",
   "version": "3.10.9"
  }
 },
 "nbformat": 4,
 "nbformat_minor": 5
}
