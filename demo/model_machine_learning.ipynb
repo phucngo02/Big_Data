{
 "cells": [
  {
   "cell_type": "code",
   "execution_count": 1,
   "id": "53e9eb52",
   "metadata": {
    "collapsed": true
   },
   "outputs": [
    {
     "name": "stdout",
     "output_type": "stream",
     "text": [
      "Collecting catboost\n",
      "  Downloading catboost-1.2-cp310-cp310-win_amd64.whl (101.0 MB)\n",
      "     ------------------------------------ 101.0/101.0 MB 445.7 kB/s eta 0:00:00\n",
      "Requirement already satisfied: plotly in e:\\tailieu\\hk2_n3\\bigdata\\jupyter\\lib\\site-packages (from catboost) (5.9.0)\n",
      "Collecting graphviz\n",
      "  Using cached graphviz-0.20.1-py3-none-any.whl (47 kB)\n",
      "Requirement already satisfied: matplotlib in e:\\tailieu\\hk2_n3\\bigdata\\jupyter\\lib\\site-packages (from catboost) (3.7.0)\n",
      "Requirement already satisfied: pandas>=0.24 in e:\\tailieu\\hk2_n3\\bigdata\\jupyter\\lib\\site-packages (from catboost) (1.5.3)\n",
      "Requirement already satisfied: numpy>=1.16.0 in e:\\tailieu\\hk2_n3\\bigdata\\jupyter\\lib\\site-packages (from catboost) (1.23.5)\n",
      "Requirement already satisfied: six in e:\\tailieu\\hk2_n3\\bigdata\\jupyter\\lib\\site-packages (from catboost) (1.16.0)\n",
      "Requirement already satisfied: scipy in e:\\tailieu\\hk2_n3\\bigdata\\jupyter\\lib\\site-packages (from catboost) (1.10.0)\n",
      "Requirement already satisfied: python-dateutil>=2.8.1 in e:\\tailieu\\hk2_n3\\bigdata\\jupyter\\lib\\site-packages (from pandas>=0.24->catboost) (2.8.2)\n",
      "Requirement already satisfied: pytz>=2020.1 in e:\\tailieu\\hk2_n3\\bigdata\\jupyter\\lib\\site-packages (from pandas>=0.24->catboost) (2022.7)\n",
      "Requirement already satisfied: pillow>=6.2.0 in e:\\tailieu\\hk2_n3\\bigdata\\jupyter\\lib\\site-packages (from matplotlib->catboost) (9.4.0)\n",
      "Requirement already satisfied: contourpy>=1.0.1 in e:\\tailieu\\hk2_n3\\bigdata\\jupyter\\lib\\site-packages (from matplotlib->catboost) (1.0.5)\n",
      "Requirement already satisfied: kiwisolver>=1.0.1 in e:\\tailieu\\hk2_n3\\bigdata\\jupyter\\lib\\site-packages (from matplotlib->catboost) (1.4.4)\n",
      "Requirement already satisfied: cycler>=0.10 in e:\\tailieu\\hk2_n3\\bigdata\\jupyter\\lib\\site-packages (from matplotlib->catboost) (0.11.0)\n",
      "Requirement already satisfied: pyparsing>=2.3.1 in e:\\tailieu\\hk2_n3\\bigdata\\jupyter\\lib\\site-packages (from matplotlib->catboost) (3.0.9)\n",
      "Requirement already satisfied: packaging>=20.0 in e:\\tailieu\\hk2_n3\\bigdata\\jupyter\\lib\\site-packages (from matplotlib->catboost) (22.0)\n",
      "Requirement already satisfied: fonttools>=4.22.0 in e:\\tailieu\\hk2_n3\\bigdata\\jupyter\\lib\\site-packages (from matplotlib->catboost) (4.25.0)\n",
      "Requirement already satisfied: tenacity>=6.2.0 in e:\\tailieu\\hk2_n3\\bigdata\\jupyter\\lib\\site-packages (from plotly->catboost) (8.0.1)\n",
      "Installing collected packages: graphviz, catboost\n",
      "Successfully installed catboost-1.2 graphviz-0.20.1\n"
     ]
    }
   ],
   "source": [
    "!pip install catboost"
   ]
  },
  {
   "cell_type": "code",
   "execution_count": 3,
   "id": "136abc57",
   "metadata": {
    "collapsed": true
   },
   "outputs": [
    {
     "name": "stdout",
     "output_type": "stream",
     "text": [
      "Collecting lightgbm\n",
      "  Downloading lightgbm-3.3.5-py3-none-win_amd64.whl (1.0 MB)\n",
      "     ---------------------------------------- 1.0/1.0 MB 1.4 MB/s eta 0:00:00\n",
      "Requirement already satisfied: numpy in e:\\tailieu\\hk2_n3\\bigdata\\jupyter\\lib\\site-packages (from lightgbm) (1.23.5)\n",
      "Requirement already satisfied: wheel in e:\\tailieu\\hk2_n3\\bigdata\\jupyter\\lib\\site-packages (from lightgbm) (0.38.4)\n",
      "Requirement already satisfied: scipy in e:\\tailieu\\hk2_n3\\bigdata\\jupyter\\lib\\site-packages (from lightgbm) (1.10.0)\n",
      "Requirement already satisfied: scikit-learn!=0.22.0 in e:\\tailieu\\hk2_n3\\bigdata\\jupyter\\lib\\site-packages (from lightgbm) (1.2.1)\n",
      "Requirement already satisfied: threadpoolctl>=2.0.0 in e:\\tailieu\\hk2_n3\\bigdata\\jupyter\\lib\\site-packages (from scikit-learn!=0.22.0->lightgbm) (2.2.0)\n",
      "Requirement already satisfied: joblib>=1.1.1 in e:\\tailieu\\hk2_n3\\bigdata\\jupyter\\lib\\site-packages (from scikit-learn!=0.22.0->lightgbm) (1.1.1)\n",
      "Installing collected packages: lightgbm\n",
      "Successfully installed lightgbm-3.3.5\n"
     ]
    }
   ],
   "source": [
    "!pip install lightgbm"
   ]
  },
  {
   "cell_type": "code",
   "execution_count": 5,
   "id": "f45a57cd",
   "metadata": {
    "collapsed": true
   },
   "outputs": [
    {
     "name": "stdout",
     "output_type": "stream",
     "text": [
      "Collecting xgboost\n",
      "  Downloading xgboost-1.7.6-py3-none-win_amd64.whl (70.9 MB)\n",
      "     -------------------------------------- 70.9/70.9 MB 806.9 kB/s eta 0:00:00\n",
      "Requirement already satisfied: scipy in e:\\tailieu\\hk2_n3\\bigdata\\jupyter\\lib\\site-packages (from xgboost) (1.10.0)\n",
      "Requirement already satisfied: numpy in e:\\tailieu\\hk2_n3\\bigdata\\jupyter\\lib\\site-packages (from xgboost) (1.23.5)\n",
      "Installing collected packages: xgboost\n",
      "Successfully installed xgboost-1.7.6\n",
      "Note: you may need to restart the kernel to use updated packages.\n"
     ]
    }
   ],
   "source": [
    "pip install xgboost"
   ]
  },
  {
   "cell_type": "code",
   "execution_count": 1,
   "id": "042cf10d",
   "metadata": {},
   "outputs": [],
   "source": [
    "import warnings\n",
    "import pandas as pd\n",
    "import numpy as np\n",
    "import joblib\n",
    "from sklearn.model_selection import train_test_split\n",
    "from sklearn.decomposition import TruncatedSVD\n",
    "from sklearn.feature_extraction.text import TfidfVectorizer\n",
    "from sklearn.metrics import accuracy_score, f1_score, confusion_matrix, roc_auc_score\n",
    "from sklearn.pipeline import Pipeline, FeatureUnion\n",
    "from sklearn.preprocessing import FunctionTransformer, StandardScaler\n",
    "from sklearn.linear_model import LogisticRegression\n",
    "from sklearn.ensemble import RandomForestClassifier\n",
    "from sklearn.svm import SVC\n",
    "from sklearn.tree import DecisionTreeClassifier\n",
    "from lightgbm import LGBMClassifier\n",
    "from xgboost import XGBClassifier\n",
    "from catboost import CatBoostClassifier\n",
    "warnings.filterwarnings(\"ignore\")"
   ]
  },
  {
   "cell_type": "code",
   "execution_count": 2,
   "id": "3e4cbbff",
   "metadata": {},
   "outputs": [],
   "source": [
    "df = pd.read_csv('comb_extraSNS_REINTEL.csv')\n",
    "df['post_message']=df['post_message'].fillna('none')"
   ]
  },
  {
   "cell_type": "code",
   "execution_count": 3,
   "id": "5cfdf560",
   "metadata": {},
   "outputs": [
    {
     "name": "stdout",
     "output_type": "stream",
     "text": [
      "<class 'pandas.core.frame.DataFrame'>\n",
      "RangeIndex: 7609 entries, 0 to 7608\n",
      "Data columns (total 2 columns):\n",
      " #   Column        Non-Null Count  Dtype \n",
      "---  ------        --------------  ----- \n",
      " 0   post_message  7609 non-null   object\n",
      " 1   label         7609 non-null   int64 \n",
      "dtypes: int64(1), object(1)\n",
      "memory usage: 119.0+ KB\n",
      "None\n"
     ]
    },
    {
     "data": {
      "text/html": [
       "<div>\n",
       "<style scoped>\n",
       "    .dataframe tbody tr th:only-of-type {\n",
       "        vertical-align: middle;\n",
       "    }\n",
       "\n",
       "    .dataframe tbody tr th {\n",
       "        vertical-align: top;\n",
       "    }\n",
       "\n",
       "    .dataframe thead th {\n",
       "        text-align: right;\n",
       "    }\n",
       "</style>\n",
       "<table border=\"1\" class=\"dataframe\">\n",
       "  <thead>\n",
       "    <tr style=\"text-align: right;\">\n",
       "      <th></th>\n",
       "      <th>post_message</th>\n",
       "      <th>label</th>\n",
       "    </tr>\n",
       "  </thead>\n",
       "  <tbody>\n",
       "    <tr>\n",
       "      <th>0</th>\n",
       "      <td>Ngày 5 / 5 / 2021 toà_án tỉnh Hoà_Bình sẽ xử s...</td>\n",
       "      <td>1</td>\n",
       "    </tr>\n",
       "    <tr>\n",
       "      <th>1</th>\n",
       "      <td>VÀI CHIÊU GÂY SỐT ĐẤT Thái Hạo Giá đất tăng độ...</td>\n",
       "      <td>1</td>\n",
       "    </tr>\n",
       "    <tr>\n",
       "      <th>2</th>\n",
       "      <td>BÀN VỀ VỤ TẤT THÀNH CANG BỊ KHAI_TRỪ KHỎI ĐẢNG...</td>\n",
       "      <td>1</td>\n",
       "    </tr>\n",
       "    <tr>\n",
       "      <th>3</th>\n",
       "      <td>THÊM 1 ĐẠI_ÚY CÔNG_AN TỐ_CÁO SAI_PHẠM CỦA LÃNH...</td>\n",
       "      <td>1</td>\n",
       "    </tr>\n",
       "    <tr>\n",
       "      <th>4</th>\n",
       "      <td>Thư_giãn , CHUYỆN LẠ “ QUÁI_THAI ” Ở XỨ TA Nhi...</td>\n",
       "      <td>1</td>\n",
       "    </tr>\n",
       "  </tbody>\n",
       "</table>\n",
       "</div>"
      ],
      "text/plain": [
       "                                        post_message  label\n",
       "0  Ngày 5 / 5 / 2021 toà_án tỉnh Hoà_Bình sẽ xử s...      1\n",
       "1  VÀI CHIÊU GÂY SỐT ĐẤT Thái Hạo Giá đất tăng độ...      1\n",
       "2  BÀN VỀ VỤ TẤT THÀNH CANG BỊ KHAI_TRỪ KHỎI ĐẢNG...      1\n",
       "3  THÊM 1 ĐẠI_ÚY CÔNG_AN TỐ_CÁO SAI_PHẠM CỦA LÃNH...      1\n",
       "4  Thư_giãn , CHUYỆN LẠ “ QUÁI_THAI ” Ở XỨ TA Nhi...      1"
      ]
     },
     "execution_count": 3,
     "metadata": {},
     "output_type": "execute_result"
    }
   ],
   "source": [
    "print(df.info())\n",
    "df.head(5)"
   ]
  },
  {
   "cell_type": "code",
   "execution_count": 4,
   "id": "240b424c",
   "metadata": {},
   "outputs": [
    {
     "name": "stdout",
     "output_type": "stream",
     "text": [
      "<class 'pandas.core.frame.DataFrame'>\n",
      "Int64Index: 6467 entries, 3176 to 3582\n",
      "Data columns (total 2 columns):\n",
      " #   Column        Non-Null Count  Dtype \n",
      "---  ------        --------------  ----- \n",
      " 0   post_message  6467 non-null   object\n",
      " 1   label         6467 non-null   int64 \n",
      "dtypes: int64(1), object(1)\n",
      "memory usage: 151.6+ KB\n",
      "None\n"
     ]
    },
    {
     "data": {
      "text/html": [
       "<div>\n",
       "<style scoped>\n",
       "    .dataframe tbody tr th:only-of-type {\n",
       "        vertical-align: middle;\n",
       "    }\n",
       "\n",
       "    .dataframe tbody tr th {\n",
       "        vertical-align: top;\n",
       "    }\n",
       "\n",
       "    .dataframe thead th {\n",
       "        text-align: right;\n",
       "    }\n",
       "</style>\n",
       "<table border=\"1\" class=\"dataframe\">\n",
       "  <thead>\n",
       "    <tr style=\"text-align: right;\">\n",
       "      <th></th>\n",
       "      <th>post_message</th>\n",
       "      <th>label</th>\n",
       "    </tr>\n",
       "  </thead>\n",
       "  <tbody>\n",
       "    <tr>\n",
       "      <th>3176</th>\n",
       "      <td>Chị_gái chặn xe cứu_hoả vì làm đứt dây_điện Vụ...</td>\n",
       "      <td>0</td>\n",
       "    </tr>\n",
       "    <tr>\n",
       "      <th>2493</th>\n",
       "      <td>Share &amp;   tag bạn_bè nhé các em !TP. HCM chí...</td>\n",
       "      <td>0</td>\n",
       "    </tr>\n",
       "    <tr>\n",
       "      <th>706</th>\n",
       "      <td>ĐẢNG : THẤY NGƯỜI SANG BẮT QUÀNG LÀM HỌ Một_số...</td>\n",
       "      <td>1</td>\n",
       "    </tr>\n",
       "    <tr>\n",
       "      <th>6836</th>\n",
       "      <td>「SAO VIỆT ĐẦU_TIÊN QUYÊN_GÓP PHÒNG_DỊCH COVID-...</td>\n",
       "      <td>0</td>\n",
       "    </tr>\n",
       "    <tr>\n",
       "      <th>7286</th>\n",
       "      <td>Ý_tưởng hay quá Mỗi copy . chia_sẻ lan_toả và ...</td>\n",
       "      <td>0</td>\n",
       "    </tr>\n",
       "  </tbody>\n",
       "</table>\n",
       "</div>"
      ],
      "text/plain": [
       "                                           post_message  label\n",
       "3176  Chị_gái chặn xe cứu_hoả vì làm đứt dây_điện Vụ...      0\n",
       "2493    Share &   tag bạn_bè nhé các em !TP. HCM chí...      0\n",
       "706   ĐẢNG : THẤY NGƯỜI SANG BẮT QUÀNG LÀM HỌ Một_số...      1\n",
       "6836  「SAO VIỆT ĐẦU_TIÊN QUYÊN_GÓP PHÒNG_DỊCH COVID-...      0\n",
       "7286  Ý_tưởng hay quá Mỗi copy . chia_sẻ lan_toả và ...      0"
      ]
     },
     "execution_count": 4,
     "metadata": {},
     "output_type": "execute_result"
    }
   ],
   "source": [
    "train, test = train_test_split(df, test_size=0.15, random_state=123)\n",
    "print(train.info())\n",
    "train.head(5)"
   ]
  },
  {
   "cell_type": "code",
   "execution_count": 5,
   "id": "5fef077c",
   "metadata": {},
   "outputs": [
    {
     "name": "stdout",
     "output_type": "stream",
     "text": [
      "<class 'pandas.core.frame.DataFrame'>\n",
      "Int64Index: 1142 entries, 1129 to 790\n",
      "Data columns (total 2 columns):\n",
      " #   Column        Non-Null Count  Dtype \n",
      "---  ------        --------------  ----- \n",
      " 0   post_message  1142 non-null   object\n",
      " 1   label         1142 non-null   int64 \n",
      "dtypes: int64(1), object(1)\n",
      "memory usage: 26.8+ KB\n",
      "None\n"
     ]
    },
    {
     "data": {
      "text/html": [
       "<div>\n",
       "<style scoped>\n",
       "    .dataframe tbody tr th:only-of-type {\n",
       "        vertical-align: middle;\n",
       "    }\n",
       "\n",
       "    .dataframe tbody tr th {\n",
       "        vertical-align: top;\n",
       "    }\n",
       "\n",
       "    .dataframe thead th {\n",
       "        text-align: right;\n",
       "    }\n",
       "</style>\n",
       "<table border=\"1\" class=\"dataframe\">\n",
       "  <thead>\n",
       "    <tr style=\"text-align: right;\">\n",
       "      <th></th>\n",
       "      <th>post_message</th>\n",
       "      <th>label</th>\n",
       "    </tr>\n",
       "  </thead>\n",
       "  <tbody>\n",
       "    <tr>\n",
       "      <th>1129</th>\n",
       "      <td>CƯỚI HỎI THỜI COVID - 19 Chiều 28 Tháng_Giêng ...</td>\n",
       "      <td>1</td>\n",
       "    </tr>\n",
       "    <tr>\n",
       "      <th>7071</th>\n",
       "      <td>&lt; URL &gt; Lê_Đức_Nhân . Giám_đốc Bệnh_viện Đà_Nẵ...</td>\n",
       "      <td>0</td>\n",
       "    </tr>\n",
       "    <tr>\n",
       "      <th>7431</th>\n",
       "      <td>Sốc với những loại “ bùa ngải ” có thật dấu_hi...</td>\n",
       "      <td>1</td>\n",
       "    </tr>\n",
       "    <tr>\n",
       "      <th>6254</th>\n",
       "      <td>Uỷ_ban Thường_vụ Quốc_hội đã ban_hành Nghị_quy...</td>\n",
       "      <td>0</td>\n",
       "    </tr>\n",
       "    <tr>\n",
       "      <th>2357</th>\n",
       "      <td>Toang rồi Nghệ_An ơi ...UBND xã Nghĩa Thuận . ...</td>\n",
       "      <td>1</td>\n",
       "    </tr>\n",
       "  </tbody>\n",
       "</table>\n",
       "</div>"
      ],
      "text/plain": [
       "                                           post_message  label\n",
       "1129  CƯỚI HỎI THỜI COVID - 19 Chiều 28 Tháng_Giêng ...      1\n",
       "7071  < URL > Lê_Đức_Nhân . Giám_đốc Bệnh_viện Đà_Nẵ...      0\n",
       "7431  Sốc với những loại “ bùa ngải ” có thật dấu_hi...      1\n",
       "6254  Uỷ_ban Thường_vụ Quốc_hội đã ban_hành Nghị_quy...      0\n",
       "2357  Toang rồi Nghệ_An ơi ...UBND xã Nghĩa Thuận . ...      1"
      ]
     },
     "execution_count": 5,
     "metadata": {},
     "output_type": "execute_result"
    }
   ],
   "source": [
    "print(test.info())\n",
    "test.head(5)"
   ]
  },
  {
   "cell_type": "code",
   "execution_count": 6,
   "id": "a706feaa",
   "metadata": {},
   "outputs": [
    {
     "name": "stdout",
     "output_type": "stream",
     "text": [
      "train size:  (6467, 2) \n",
      "test size:  (1142, 2)\n"
     ]
    }
   ],
   "source": [
    "print('train size: ', train.shape, '\\ntest size: ', test.shape)"
   ]
  },
  {
   "cell_type": "code",
   "execution_count": 7,
   "id": "a2e25750",
   "metadata": {},
   "outputs": [],
   "source": [
    "def get_metrics(y_test, y_pred_proba):\n",
    "  print('ACCURACY_SCORE: ', round(accuracy_score(y_test, y_pred_proba>=0.5), 4), '\\n')\n",
    "  print('ROC_AUC_SCORE: ', round(roc_auc_score(y_test, y_pred_proba), 4), '\\n')\n",
    "  print('F1_SCORE: ', round(f1_score(y_test, y_pred_proba>=0.5, average='macro'), 4), '\\n')\n",
    "  print('CONFUSION_MATRIX:\\n', confusion_matrix(y_test, y_pred_proba>=0.5),'\\n')"
   ]
  },
  {
   "cell_type": "code",
   "execution_count": 8,
   "id": "5f4cc5dd",
   "metadata": {},
   "outputs": [],
   "source": [
    "def get_text_data(x):\n",
    "    return [record[0] for record in x]\n",
    "transformer_text = FunctionTransformer(get_text_data)"
   ]
  },
  {
   "cell_type": "code",
   "execution_count": 9,
   "id": "9ecb8af3",
   "metadata": {},
   "outputs": [],
   "source": [
    "pipeline = Pipeline([\n",
    "    ('features', FeatureUnion([\n",
    "            ('text_features', Pipeline([\n",
    "                ('selector', transformer_text),\n",
    "                ('tfidf', TfidfVectorizer(max_features=100000, ngram_range=(1,2))),\n",
    "            ]))\n",
    "    ])),\n",
    "])"
   ]
  },
  {
   "cell_type": "code",
   "execution_count": 10,
   "id": "907eff8f",
   "metadata": {},
   "outputs": [],
   "source": [
    "X_train = train.drop(['label'], axis=1).to_numpy()\n",
    "X_test = test.drop(['label'], axis=1).to_numpy()"
   ]
  },
  {
   "cell_type": "code",
   "execution_count": 11,
   "id": "a04b65e3",
   "metadata": {},
   "outputs": [
    {
     "name": "stdout",
     "output_type": "stream",
     "text": [
      "(1142, 1)\n"
     ]
    }
   ],
   "source": [
    "print(X_test.shape)"
   ]
  },
  {
   "cell_type": "code",
   "execution_count": 12,
   "id": "38e2deb9",
   "metadata": {},
   "outputs": [
    {
     "name": "stdout",
     "output_type": "stream",
     "text": [
      "(6467, 100000)\n",
      "(1142, 100000)\n"
     ]
    }
   ],
   "source": [
    "X_train = pipeline.fit_transform(X_train)\n",
    "X_test = pipeline.transform(X_test)\n",
    "y_train = train['label'].values\n",
    "y_test = test['label'].values\n",
    "\n",
    "print(X_train.shape)\n",
    "print(X_test.shape)"
   ]
  },
  {
   "cell_type": "code",
   "execution_count": 13,
   "id": "ed8985a0",
   "metadata": {},
   "outputs": [
    {
     "data": {
      "text/plain": [
       "['C:\\\\Users\\\\ADMIN\\\\BigData\\\\models\\\\pipeline.pkl']"
      ]
     },
     "execution_count": 13,
     "metadata": {},
     "output_type": "execute_result"
    }
   ],
   "source": [
    "import joblib\n",
    "\n",
    "# Lưu pipeline đã train\n",
    "pipeline_path = \"C:\\\\Users\\\\ADMIN\\\\BigData\\\\models\\\\pipeline.pkl\"\n",
    "joblib.dump(pipeline, pipeline_path)"
   ]
  },
  {
   "cell_type": "code",
   "execution_count": 23,
   "id": "21a721a9",
   "metadata": {
    "collapsed": true
   },
   "outputs": [
    {
     "name": "stdout",
     "output_type": "stream",
     "text": [
      "  (0, 1162)\t0.06774986072154572\n",
      "  (0, 1231)\t0.19876154894599396\n",
      "  (0, 10496)\t0.1384424404311213\n",
      "  (0, 10533)\t0.25972665700666214\n",
      "  (0, 13593)\t0.06883950350616476\n",
      "  (0, 13594)\t0.06972478968035031\n",
      "  (0, 14048)\t0.0599801851621782\n",
      "  (0, 14106)\t0.1580551845913275\n",
      "  (0, 14647)\t0.0952831690430908\n",
      "  (0, 14772)\t0.13475231347433914\n",
      "  (0, 18482)\t0.11828747246748442\n",
      "  (0, 21013)\t0.08109760452020263\n",
      "  (0, 21033)\t0.10253594212677439\n",
      "  (0, 29738)\t0.15765092262139352\n",
      "  (0, 29758)\t0.23318092690542586\n",
      "  (0, 30946)\t0.1545919222606974\n",
      "  (0, 34418)\t0.13076278618329673\n",
      "  (0, 34448)\t0.20728119634998513\n",
      "  (0, 43573)\t0.0931618941898987\n",
      "  (0, 43700)\t0.22899740600401236\n",
      "  (0, 53632)\t0.1501115888380671\n",
      "  (0, 53764)\t0.203591069393203\n",
      "  (0, 53806)\t0.25071361565803957\n",
      "  (0, 71520)\t0.13197794722691433\n",
      "  (0, 71535)\t0.22899740600401236\n",
      "  :\t:\n",
      "  (775, 40080)\t0.2284922756613221\n",
      "  (775, 40095)\t0.1382489202668535\n",
      "  (775, 41781)\t0.10045005938740424\n",
      "  (775, 42045)\t0.254130845673887\n",
      "  (775, 43299)\t0.23841300078049418\n",
      "  (775, 43337)\t0.42595027459902846\n",
      "  (775, 43369)\t0.16064681623364852\n",
      "  (775, 48844)\t0.16694411138499402\n",
      "  (775, 50589)\t0.11113881631782263\n",
      "  (775, 50611)\t0.1773606741096781\n",
      "  (775, 69559)\t0.09785341419503484\n",
      "  (775, 69588)\t0.11461579031912825\n",
      "  (775, 70582)\t0.04816870013916862\n",
      "  (775, 70669)\t0.13242302191404634\n",
      "  (775, 78068)\t0.07164558743468212\n",
      "  (775, 78988)\t0.04398721686741062\n",
      "  (775, 79798)\t0.18777723683436215\n",
      "  (775, 80805)\t0.10298719128715565\n",
      "  (775, 80814)\t0.13028091463470187\n",
      "  (775, 82021)\t0.053046760316984305\n",
      "  (775, 82250)\t0.11885675591594026\n",
      "  (775, 85263)\t0.13517117895845054\n",
      "  (775, 85271)\t0.20558446842928021\n",
      "  (775, 95970)\t0.05460105417531981\n",
      "  (775, 96121)\t0.20558446842928021\n"
     ]
    }
   ],
   "source": [
    "print(X_test)"
   ]
  },
  {
   "cell_type": "markdown",
   "id": "c4681f8c",
   "metadata": {},
   "source": [
    "## SVM"
   ]
  },
  {
   "cell_type": "code",
   "execution_count": 14,
   "id": "361491b5",
   "metadata": {},
   "outputs": [
    {
     "data": {
      "text/html": [
       "<style>#sk-container-id-1 {color: black;background-color: white;}#sk-container-id-1 pre{padding: 0;}#sk-container-id-1 div.sk-toggleable {background-color: white;}#sk-container-id-1 label.sk-toggleable__label {cursor: pointer;display: block;width: 100%;margin-bottom: 0;padding: 0.3em;box-sizing: border-box;text-align: center;}#sk-container-id-1 label.sk-toggleable__label-arrow:before {content: \"▸\";float: left;margin-right: 0.25em;color: #696969;}#sk-container-id-1 label.sk-toggleable__label-arrow:hover:before {color: black;}#sk-container-id-1 div.sk-estimator:hover label.sk-toggleable__label-arrow:before {color: black;}#sk-container-id-1 div.sk-toggleable__content {max-height: 0;max-width: 0;overflow: hidden;text-align: left;background-color: #f0f8ff;}#sk-container-id-1 div.sk-toggleable__content pre {margin: 0.2em;color: black;border-radius: 0.25em;background-color: #f0f8ff;}#sk-container-id-1 input.sk-toggleable__control:checked~div.sk-toggleable__content {max-height: 200px;max-width: 100%;overflow: auto;}#sk-container-id-1 input.sk-toggleable__control:checked~label.sk-toggleable__label-arrow:before {content: \"▾\";}#sk-container-id-1 div.sk-estimator input.sk-toggleable__control:checked~label.sk-toggleable__label {background-color: #d4ebff;}#sk-container-id-1 div.sk-label input.sk-toggleable__control:checked~label.sk-toggleable__label {background-color: #d4ebff;}#sk-container-id-1 input.sk-hidden--visually {border: 0;clip: rect(1px 1px 1px 1px);clip: rect(1px, 1px, 1px, 1px);height: 1px;margin: -1px;overflow: hidden;padding: 0;position: absolute;width: 1px;}#sk-container-id-1 div.sk-estimator {font-family: monospace;background-color: #f0f8ff;border: 1px dotted black;border-radius: 0.25em;box-sizing: border-box;margin-bottom: 0.5em;}#sk-container-id-1 div.sk-estimator:hover {background-color: #d4ebff;}#sk-container-id-1 div.sk-parallel-item::after {content: \"\";width: 100%;border-bottom: 1px solid gray;flex-grow: 1;}#sk-container-id-1 div.sk-label:hover label.sk-toggleable__label {background-color: #d4ebff;}#sk-container-id-1 div.sk-serial::before {content: \"\";position: absolute;border-left: 1px solid gray;box-sizing: border-box;top: 0;bottom: 0;left: 50%;z-index: 0;}#sk-container-id-1 div.sk-serial {display: flex;flex-direction: column;align-items: center;background-color: white;padding-right: 0.2em;padding-left: 0.2em;position: relative;}#sk-container-id-1 div.sk-item {position: relative;z-index: 1;}#sk-container-id-1 div.sk-parallel {display: flex;align-items: stretch;justify-content: center;background-color: white;position: relative;}#sk-container-id-1 div.sk-item::before, #sk-container-id-1 div.sk-parallel-item::before {content: \"\";position: absolute;border-left: 1px solid gray;box-sizing: border-box;top: 0;bottom: 0;left: 50%;z-index: -1;}#sk-container-id-1 div.sk-parallel-item {display: flex;flex-direction: column;z-index: 1;position: relative;background-color: white;}#sk-container-id-1 div.sk-parallel-item:first-child::after {align-self: flex-end;width: 50%;}#sk-container-id-1 div.sk-parallel-item:last-child::after {align-self: flex-start;width: 50%;}#sk-container-id-1 div.sk-parallel-item:only-child::after {width: 0;}#sk-container-id-1 div.sk-dashed-wrapped {border: 1px dashed gray;margin: 0 0.4em 0.5em 0.4em;box-sizing: border-box;padding-bottom: 0.4em;background-color: white;}#sk-container-id-1 div.sk-label label {font-family: monospace;font-weight: bold;display: inline-block;line-height: 1.2em;}#sk-container-id-1 div.sk-label-container {text-align: center;}#sk-container-id-1 div.sk-container {/* jupyter's `normalize.less` sets `[hidden] { display: none; }` but bootstrap.min.css set `[hidden] { display: none !important; }` so we also need the `!important` here to be able to override the default hidden behavior on the sphinx rendered scikit-learn.org. See: https://github.com/scikit-learn/scikit-learn/issues/21755 */display: inline-block !important;position: relative;}#sk-container-id-1 div.sk-text-repr-fallback {display: none;}</style><div id=\"sk-container-id-1\" class=\"sk-top-container\"><div class=\"sk-text-repr-fallback\"><pre>SVC(kernel=&#x27;linear&#x27;, probability=True)</pre><b>In a Jupyter environment, please rerun this cell to show the HTML representation or trust the notebook. <br />On GitHub, the HTML representation is unable to render, please try loading this page with nbviewer.org.</b></div><div class=\"sk-container\" hidden><div class=\"sk-item\"><div class=\"sk-estimator sk-toggleable\"><input class=\"sk-toggleable__control sk-hidden--visually\" id=\"sk-estimator-id-1\" type=\"checkbox\" checked><label for=\"sk-estimator-id-1\" class=\"sk-toggleable__label sk-toggleable__label-arrow\">SVC</label><div class=\"sk-toggleable__content\"><pre>SVC(kernel=&#x27;linear&#x27;, probability=True)</pre></div></div></div></div></div>"
      ],
      "text/plain": [
       "SVC(kernel='linear', probability=True)"
      ]
     },
     "execution_count": 14,
     "metadata": {},
     "output_type": "execute_result"
    }
   ],
   "source": [
    "modelSVM = SVC(kernel='linear', probability=True)\n",
    "modelSVM.fit(X_train, y_train)"
   ]
  },
  {
   "cell_type": "code",
   "execution_count": 15,
   "id": "2775692f",
   "metadata": {
    "scrolled": true
   },
   "outputs": [
    {
     "name": "stdout",
     "output_type": "stream",
     "text": [
      "ACCURACY_SCORE:  0.8993 \n",
      "\n",
      "ROC_AUC_SCORE:  0.9517 \n",
      "\n",
      "F1_SCORE:  0.8774 \n",
      "\n",
      "CONFUSION_MATRIX:\n",
      " [[755  52]\n",
      " [ 63 272]] \n",
      "\n"
     ]
    }
   ],
   "source": [
    "y_pred_proba = modelSVM.predict_proba(X_test) [:,1]\n",
    "\n",
    "scores = get_metrics(y_test, y_pred_proba)"
   ]
  },
  {
   "cell_type": "code",
   "execution_count": 16,
   "id": "6daa6956",
   "metadata": {},
   "outputs": [
    {
     "name": "stdout",
     "output_type": "stream",
     "text": [
      "accuracy_score 0.8992994746059545\n",
      "f1_score 0.8773619703513482\n",
      "roc_auc_score 0.9517320460892563\n"
     ]
    }
   ],
   "source": [
    "print('accuracy_score', accuracy_score(y_test, y_pred_proba>=0.5))\n",
    "print('f1_score', f1_score(y_test, y_pred_proba>=0.5, average='macro'))\n",
    "print('roc_auc_score', roc_auc_score(y_test, y_pred_proba))\n"
   ]
  },
  {
   "cell_type": "code",
   "execution_count": 17,
   "id": "7ace4b57",
   "metadata": {},
   "outputs": [
    {
     "data": {
      "text/plain": [
       "['C:\\\\Users\\\\ADMIN\\\\BigData\\\\models\\\\modelSVM_to_treaming.hdf5']"
      ]
     },
     "execution_count": 17,
     "metadata": {},
     "output_type": "execute_result"
    }
   ],
   "source": [
    "## Save model\n",
    "path = 'C:\\\\Users\\\\ADMIN\\\\BigData\\\\models\\\\'\n",
    "model_file = f\"modelSVM_to_treaming.hdf5\"\n",
    "joblib.dump(modelSVM, path + model_file)"
   ]
  },
  {
   "cell_type": "markdown",
   "id": "dce7ce2d",
   "metadata": {},
   "source": [
    "## Train multi model together"
   ]
  },
  {
   "cell_type": "code",
   "execution_count": 16,
   "id": "82ffff16",
   "metadata": {},
   "outputs": [],
   "source": [
    "list_model = [LogisticRegression(), DecisionTreeClassifier(),\n",
    "              RandomForestClassifier(),\n",
    "              LGBMClassifier(), XGBClassifier(),\n",
    "              SVC(kernel='linear', probability=True)]\n",
    "\n",
    "list_model_name, list_accuracy_score, list_f1_score, list_roc_auc = [], [], [], []"
   ]
  },
  {
   "cell_type": "code",
   "execution_count": 17,
   "id": "cabf2991",
   "metadata": {},
   "outputs": [
    {
     "name": "stdout",
     "output_type": "stream",
     "text": [
      "LogisticRegression:\n",
      "save model:  LogisticRegression \n",
      "\n",
      "DecisionTreeClassifier:\n",
      "save model:  DecisionTreeClassifier \n",
      "\n",
      "RandomForestClassifier:\n",
      "save model:  RandomForestClassifier \n",
      "\n",
      "LGBMClassifier:\n",
      "save model:  LGBMClassifier \n",
      "\n",
      "XGBClassifier:\n",
      "save model:  XGBClassifier \n",
      "\n",
      "SVC:\n",
      "save model:  SVC \n",
      "\n"
     ]
    }
   ],
   "source": [
    "path = 'C:\\\\Users\\\\ADMIN\\\\BigData\\\\models\\\\'\n",
    "for i, model in enumerate(list_model):\n",
    "  print(f\"{type(model).__name__}:\")\n",
    "  model.fit(X_train, y_train)\n",
    "  y_pred_proba = model.predict_proba(X_test) [:,1]\n",
    "  list_model_name.append(type(model).__name__);\n",
    "  list_accuracy_score.append(accuracy_score(y_test, y_pred_proba>=0.5))\n",
    "  list_f1_score.append(f1_score(y_test, y_pred_proba>=0.5, average='macro'))\n",
    "  list_roc_auc.append(roc_auc_score(y_test, y_pred_proba))\n",
    "\n",
    "  print('save model: ', list_model_name[i], '\\n')\n",
    "  model_file = f\"{list_model_name[i]}.hdf5\"\n",
    "  if isinstance(model, CatBoostClassifier):\n",
    "    # Lưu mô hình CatBoost bằng cách sử dụng phương thức save_model\n",
    "    model.save_model(model_file)\n",
    "  else:\n",
    "    # Lưu các mô hình khác bằng cách sử dụng h5py\n",
    "    joblib.dump(model, path + model_file)"
   ]
  },
  {
   "cell_type": "code",
   "execution_count": 18,
   "id": "02f62252",
   "metadata": {},
   "outputs": [
    {
     "data": {
      "text/html": [
       "<div>\n",
       "<style scoped>\n",
       "    .dataframe tbody tr th:only-of-type {\n",
       "        vertical-align: middle;\n",
       "    }\n",
       "\n",
       "    .dataframe tbody tr th {\n",
       "        vertical-align: top;\n",
       "    }\n",
       "\n",
       "    .dataframe thead th {\n",
       "        text-align: right;\n",
       "    }\n",
       "</style>\n",
       "<table border=\"1\" class=\"dataframe\">\n",
       "  <thead>\n",
       "    <tr style=\"text-align: right;\">\n",
       "      <th></th>\n",
       "      <th>Model name</th>\n",
       "      <th>Accuracy score</th>\n",
       "      <th>Macro-F1 score</th>\n",
       "      <th>ROC-AUC score</th>\n",
       "    </tr>\n",
       "  </thead>\n",
       "  <tbody>\n",
       "    <tr>\n",
       "      <th>0</th>\n",
       "      <td>SVC</td>\n",
       "      <td>0.917526</td>\n",
       "      <td>0.845416</td>\n",
       "      <td>0.927291</td>\n",
       "    </tr>\n",
       "    <tr>\n",
       "      <th>1</th>\n",
       "      <td>LGBMClassifier</td>\n",
       "      <td>0.894330</td>\n",
       "      <td>0.790726</td>\n",
       "      <td>0.909552</td>\n",
       "    </tr>\n",
       "    <tr>\n",
       "      <th>2</th>\n",
       "      <td>XGBClassifier</td>\n",
       "      <td>0.891753</td>\n",
       "      <td>0.780873</td>\n",
       "      <td>0.884008</td>\n",
       "    </tr>\n",
       "    <tr>\n",
       "      <th>3</th>\n",
       "      <td>RandomForestClassifier</td>\n",
       "      <td>0.884021</td>\n",
       "      <td>0.714440</td>\n",
       "      <td>0.902653</td>\n",
       "    </tr>\n",
       "    <tr>\n",
       "      <th>4</th>\n",
       "      <td>LogisticRegression</td>\n",
       "      <td>0.862113</td>\n",
       "      <td>0.644748</td>\n",
       "      <td>0.920509</td>\n",
       "    </tr>\n",
       "    <tr>\n",
       "      <th>5</th>\n",
       "      <td>DecisionTreeClassifier</td>\n",
       "      <td>0.853093</td>\n",
       "      <td>0.751617</td>\n",
       "      <td>0.758463</td>\n",
       "    </tr>\n",
       "  </tbody>\n",
       "</table>\n",
       "</div>"
      ],
      "text/plain": [
       "               Model name  Accuracy score  Macro-F1 score  ROC-AUC score\n",
       "0                     SVC        0.917526        0.845416       0.927291\n",
       "1          LGBMClassifier        0.894330        0.790726       0.909552\n",
       "2           XGBClassifier        0.891753        0.780873       0.884008\n",
       "3  RandomForestClassifier        0.884021        0.714440       0.902653\n",
       "4      LogisticRegression        0.862113        0.644748       0.920509\n",
       "5  DecisionTreeClassifier        0.853093        0.751617       0.758463"
      ]
     },
     "execution_count": 18,
     "metadata": {},
     "output_type": "execute_result"
    }
   ],
   "source": [
    "table_cols = {'Model name': list_model_name,\n",
    "              'Accuracy score': list_accuracy_score,\n",
    "              'Macro-F1 score': list_f1_score,\n",
    "              'ROC-AUC score': list_roc_auc}\n",
    "\n",
    "table = pd.DataFrame(table_cols)\n",
    "table = table.sort_values(by=['Accuracy score'], ascending=False).reset_index(drop=True)\n",
    "table"
   ]
  },
  {
   "cell_type": "code",
   "execution_count": null,
   "id": "7519e435",
   "metadata": {},
   "outputs": [],
   "source": []
  },
  {
   "cell_type": "code",
   "execution_count": null,
   "id": "e6fd6f99",
   "metadata": {},
   "outputs": [],
   "source": []
  },
  {
   "cell_type": "code",
   "execution_count": null,
   "id": "6be6bc3b",
   "metadata": {},
   "outputs": [],
   "source": []
  }
 ],
 "metadata": {
  "kernelspec": {
   "display_name": "Python 3 (ipykernel)",
   "language": "python",
   "name": "python3"
  },
  "language_info": {
   "codemirror_mode": {
    "name": "ipython",
    "version": 3
   },
   "file_extension": ".py",
   "mimetype": "text/x-python",
   "name": "python",
   "nbconvert_exporter": "python",
   "pygments_lexer": "ipython3",
   "version": "3.10.9"
  }
 },
 "nbformat": 4,
 "nbformat_minor": 5
}
